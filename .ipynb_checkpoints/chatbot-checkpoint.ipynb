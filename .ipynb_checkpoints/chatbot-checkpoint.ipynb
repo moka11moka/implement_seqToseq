{
 "cells": [
  {
   "cell_type": "markdown",
   "metadata": {},
   "source": [
    "#### Data preparation: movie_lines.txt and movie_conversations.txt"
   ]
  },
  {
   "cell_type": "code",
   "execution_count": 22,
   "metadata": {},
   "outputs": [],
   "source": [
    "import collections\n",
    "import pandas as pd\n",
    "import torch\n",
    "from itertools import zip_longest"
   ]
  },
  {
   "cell_type": "markdown",
   "metadata": {},
   "source": [
    "### construct a vocab"
   ]
  },
  {
   "cell_type": "code",
   "execution_count": 23,
   "metadata": {},
   "outputs": [],
   "source": [
    "# 预定义的token\n",
    "PAD_token = 0  # 表示padding \n",
    "SOS_token = 1  # 句子的开始 \n",
    "EOS_token = 2  # 句子的结束 \n",
    "\n",
    "class vocab:\n",
    "    def __init__(self):\n",
    "        self.index2word = {PAD_token:'PAD',SOS_token:'SOS',EOS_token:'EOS'}\n",
    "        self.word2index = collections.defaultdict(int)\n",
    "        self.word2count = collections.defaultdict(int)\n",
    "        self.word_num = 3\n",
    "    def addWords(self,word):\n",
    "        if word not in self.word2index:\n",
    "            self.word_num += 1\n",
    "            self.word2index[word] = self.word_num\n",
    "            self.index2word[self.word_num] = word\n",
    "            self.word2count[word] = 1\n",
    "        else:\n",
    "            self.word2count[word] += 1\n",
    "            \n",
    "    def addSentence(self, sentence):\n",
    "        for word in sentence.split():\n",
    "            self.addWords(word)\n",
    "        "
   ]
  },
  {
   "cell_type": "markdown",
   "metadata": {},
   "source": [
    "### read the conversation data"
   ]
  },
  {
   "cell_type": "code",
   "execution_count": 24,
   "metadata": {},
   "outputs": [],
   "source": [
    "df = pd.read_csv('pairs.csv')\n",
    "pairs = []\n",
    "for i,j in zip(df['0'],df['1']):\n",
    "    pairs.append([str(i).strip(),str(j).strip()])"
   ]
  },
  {
   "cell_type": "code",
   "execution_count": 25,
   "metadata": {},
   "outputs": [
    {
     "data": {
      "text/plain": [
       "[['there .', 'where ?'],\n",
       " ['you have my word . as a gentleman', 'you re sweet .'],\n",
       " ['hi .', 'looks like things worked out tonight huh ?'],\n",
       " ['have fun tonight ?', 'tons'],\n",
       " ['well no . . .', 'then that s all you had to say .'],\n",
       " ['then that s all you had to say .', 'but'],\n",
       " ['but', 'you always been this selfish ?'],\n",
       " ['do you listen to this crap ?', 'what crap ?'],\n",
       " ['what good stuff ?', 'the real you .'],\n",
       " ['wow', 'let s go .'],\n",
       " ['she okay ?', 'i hope so .'],\n",
       " ['they do to !', 'they do not !'],\n",
       " ['did you change your hair ?', 'no .'],\n",
       " ['no .', 'you might wanna think about it'],\n",
       " ['who ?', 'joey .'],\n",
       " ['great', 'would you mind getting me a drink cameron ?'],\n",
       " ['it s more', 'expensive ?'],\n",
       " ['where ve you been ?', 'nowhere . . . hi daddy .'],\n",
       " ['what ?', 'in th . for a month'],\n",
       " ['in th . for a month', 'why ?'],\n",
       " ['why ?', 'he was like a total babe'],\n",
       " ['he was like a total babe', 'but you hate joey'],\n",
       " ['you looked beautiful last night you know .', 'so did you'],\n",
       " ['let go !', 'you set me up .'],\n",
       " ['you set me up .', 'i just wanted'],\n",
       " ['but she doesn t want to date .', 'exactly my point'],\n",
       " ['daddy i', 'and where re you going ?'],\n",
       " ['oh god . it s starting .', 'it s just a party . daddy .'],\n",
       " ['daddy no !', 'just for a minute'],\n",
       " ['why ?', 'because she ll scare them away .'],\n",
       " ['the prom ? kat has a date ?', 'no but'],\n",
       " ['you the new guy ?', 'so they tell me . . .'],\n",
       " ['so which dakota you from ?', 'north actually . how d you ?'],\n",
       " ['north actually . how d you ?',\n",
       "  'i was kidding . people actually live there ?'],\n",
       " ['how many people were in your old school ?', 'thirty two .'],\n",
       " ['thirty two .', 'get out !'],\n",
       " ['get out !', 'how many people go here ?'],\n",
       " ['how many people go here ?', 'couple thousand . most of them evil'],\n",
       " ['what about him ?', 'you wanna go out with him ?'],\n",
       " ['it s a lung cancer issue', 'her favorite uncle'],\n",
       " ['her favorite uncle', 'dead at forty one .'],\n",
       " ['he s pretty !', 'okay ! i wasn t sure'],\n",
       " ['cameron i m a little busy', 'it s off . the whole thing .'],\n",
       " ['cameron do you like the girl ?', 'sure'],\n",
       " ['sure', 'then go get her'],\n",
       " ['she kissed me .', 'where ?'],\n",
       " ['what s the worst ?', 'you get the girl .'],\n",
       " ['hey do you mind ?', 'not at all'],\n",
       " ['where ya goin ?', 'away .'],\n",
       " ['away .', 'your sister here ?'],\n",
       " ['leave my sister alone .', 'and why would i do that ?'],\n",
       " ['yeah', 'what do you think ?'],\n",
       " ['you just said', 'you need money to take a girl out'],\n",
       " ['what ?', 'a hundred bucks a date .'],\n",
       " ['a hundred bucks a date .', 'forget it .'],\n",
       " ['forget it .', 'forget her sister then .'],\n",
       " ['it s about time .', 'a deal s a deal .'],\n",
       " ['how d you do it ?', 'do what ?'],\n",
       " ['do what ?', 'get her to act like a human'],\n",
       " ['hey .', 'are you lost ?'],\n",
       " ['are you lost ?', 'nope just came by to chat'],\n",
       " ['nope just came by to chat', 'we don t chat .'],\n",
       " ['i hear you re helpin verona .', 'uh yeah . we re old friend'],\n",
       " ['uh yeah . we re old friend', 'you and verona ?'],\n",
       " ['he always look so', 'block e ?'],\n",
       " ['william didn t even go to high school', 'that s never been proven'],\n",
       " ['you think this ll work ?', 'no fear .'],\n",
       " ['what d he say ?', 'who cares ?'],\n",
       " ['have you seen him ?', 'who ?'],\n",
       " ['who ?', 'william he asked me to meet him here .'],\n",
       " ['pick you up friday then', 'oh right . friday .'],\n",
       " ['you covered in my vomit .', 'seven thirty ?'],\n",
       " ['excuse me ?', 'that s what you want isn t it ?'],\n",
       " ['i say do what you wanna do .', 'funny you re the only one'],\n",
       " ['okay ?', 'i m fine . i m'],\n",
       " ['you re not okay .', 'i just need to lie down for awhile'],\n",
       " ['why re you doing this ?', 'i told you'],\n",
       " ['i told you', 'you don t care if i die'],\n",
       " ['you don t care if i die', 'sure i do'],\n",
       " ['sure i do', 'why ?'],\n",
       " ['why d you let him get to you ?', 'who ?'],\n",
       " ['i thought you were above all that', 'you know what they say'],\n",
       " ['kat ! wake up !', 'what ?'],\n",
       " ['busy', 'were you in jail ?'],\n",
       " ['were you in jail ?', 'maybe .'],\n",
       " ['maybe .', 'no you weren t'],\n",
       " ['no you weren t', 'then why d you ask ?'],\n",
       " ['then why d you ask ?', 'why d you lie ?'],\n",
       " ['i should do this .', 'do what ?'],\n",
       " ['do what ?', 'this .'],\n",
       " ['start a band ?', 'my father wouldn t approve of that that'],\n",
       " ['oh so now you think you know me ?', 'i m gettin there'],\n",
       " ['who ?', 'bianca'],\n",
       " ['what are you doing here ?', 'i heard there was a poetry reading .'],\n",
       " ['i heard there was a poetry reading .', 'you re so'],\n",
       " ['you re so', 'pleasant ?'],\n",
       " ['c mon . it s not that bad', 'try lookin at it from this angle'],\n",
       " ['put your right foot there', 'forget it . i m stayin .'],\n",
       " ['a soft side ? who knew ?', 'yeah well don t let it get out'],\n",
       " ['yeah well don t let it get out', 'so what s your excuse ?'],\n",
       " ['so what s your excuse ?', 'acting the way we do .'],\n",
       " ['acting the way we do .', 'yes'],\n",
       " ['something like that', 'then you screwed up'],\n",
       " ['then you screwed up', 'how ?'],\n",
       " ['how ?', 'you never disappointed me .'],\n",
       " ['you up for it ?', 'for . . . ?'],\n",
       " ['what ?', 'no one else knows'],\n",
       " ['is that a request or a command ?', 'you know what i mean'],\n",
       " ['you know what i mean', 'no .'],\n",
       " ['no .', 'no what ?'],\n",
       " ['no what ?', 'no i won t go with you'],\n",
       " ['no i won t go with you', 'why not ?'],\n",
       " ['it s just something i had . you know', 'oh huh'],\n",
       " ['my grandmother s .', 'what ?'],\n",
       " ['i thought you were punishing me .', 'why can t we agree on this ?'],\n",
       " ['why can t we agree on this ?', 'because you re making decisions for me .'],\n",
       " ['parts of it .', 'which parts ?'],\n",
       " ['hey there . tired of breathing ?', 'hi .'],\n",
       " ['hi .', 'cool pictures . you a fan ?'],\n",
       " ['cool pictures . you a fan ?', 'yeah . i guess .'],\n",
       " ['you think ?', 'oh yeah .'],\n",
       " ['right .', 'kat a fan too ?'],\n",
       " ['kat a fan too ?', 'yeah . . .'],\n",
       " ['say it', 'what ?'],\n",
       " ['what ? !', 'good enough .'],\n",
       " ['ever been to club skunk ?', 'yeah .'],\n",
       " ['in the microwave .', 'make anyone cry today ?'],\n",
       " ['have a great time honey !', 'but who what ?'],\n",
       " ['what just happened ?', 'your daughters went to the prom .'],\n",
       " ['your daughters went to the prom .',\n",
       "  'did i have anything to say about it ?'],\n",
       " ['did i have anything to say about it ?', 'absolutely not .'],\n",
       " ['absolutely not .', 'that s what i thought'],\n",
       " ['he s the devil s child . . .', 'we ll all go crazy . . .'],\n",
       " ['your life and that of others !', 'if they agree to follow me yes .'],\n",
       " ['i could be gone for years .', 'i know .'],\n",
       " ['she said yes .', 'thank god . . .'],\n",
       " ['can t you stay with us a little ?', 'i am busy inside .'],\n",
       " ['my letters of appointment .', 'appointment to what ?'],\n",
       " ['i want to go with you !', 'there ll be a time .'],\n",
       " ['no . . .', 'no ?'],\n",
       " ['you come ! you speak first !', 'tell the chief we thank him .'],\n",
       " ['tell the chief we thank him .', 'chief knows .'],\n",
       " ['chief says how many ?', 'thousands .'],\n",
       " ['thousands .', 'why ?'],\n",
       " ['to bring the word of god .', 'chief says he has a god .'],\n",
       " ['chief says he has a god .', '. . . and also to bring medicine .'],\n",
       " ['. . . and also to bring medicine .', 'chief says . . .'],\n",
       " ['that s what it says .', 'how did you manage it ?'],\n",
       " ['all of them ! just lies !', 'colon ! don t !'],\n",
       " ['i suppose we re both old men now .',\n",
       "  'you ll always be older than me father .'],\n",
       " ['i knew you would .', 'new worlds create new people .'],\n",
       " ['new worlds create new people .', 'oh ? so you are a new man ?'],\n",
       " ['we can t raise the wheel without it .', 'my horse doesn t work .'],\n",
       " ['what do you read ?', 'twenty eight .'],\n",
       " ['where can i meet this man ?', 'immediately .'],\n",
       " ['six days ago yes .', 'you must be mad . . . !'],\n",
       " ['you think i don t know that ?', 'we re lost !'],\n",
       " ['we re lost !', 'the land is there . i know it !'],\n",
       " ['you tell that to them !', 'you re right . let the men decide .'],\n",
       " ['then what do you suggest don sanchez ?', 'he must be replaced .'],\n",
       " ['then why ?', 'because he is not afraid of me .'],\n",
       " ['don t say anything .', 'where are we going ?'],\n",
       " ['where are we going ?', 'i m coming with you .'],\n",
       " ['i m coming with you .', 'yes . yes come with me !'],\n",
       " ['you bring the cigarettes ?', 'oh sure .'],\n",
       " ['no . no way .', 'but it s . . .'],\n",
       " ['are you married ?', 'divorced .'],\n",
       " ['i can t take you to my place .', 'somewhere else ?'],\n",
       " ['so . . .the station is empty ?', 'yeah . this way .'],\n",
       " ['you considered becoming a prostitute ?', 'yes i considered it .'],\n",
       " ['yes i considered it .', 'did you ever turn tricks before ?'],\n",
       " ['did you ever turn tricks before ?', 'no .'],\n",
       " ['no .', 'what about back home ?'],\n",
       " ['what about back home ?', 'no .'],\n",
       " ['so you were never a prostitute ?', 'what are you asking me ?'],\n",
       " ['are you alright ?', 'i still can t believe eddie s gone .'],\n",
       " ['i still can t believe eddie s gone .', 'i m sorry .'],\n",
       " ['is he your boyfriend ?', 'ludwig ? he s gay are you jealous ?'],\n",
       " ['ludwig ? he s gay are you jealous ?',\n",
       "  'if i was your boyfriend i might be .'],\n",
       " ['you better get packed .', 'right .'],\n",
       " ['do you have coffee ?', 'in the kitchen .'],\n",
       " ['in the kitchen .', 'i ll make some for us .'],\n",
       " ['i ll make some for us .', 'i ll get my clothes .'],\n",
       " ['oh .', 'it was my decision not his .'],\n",
       " ['who did cause and origin ?', 'who do you think chief ? !'],\n",
       " ['what do you mean cleaned up ?', 'i let her take a shower .'],\n",
       " ['chief mind if i take her ?', 'okay . but not water sports .'],\n",
       " ['did the d .a . videotape her deposition ?',\n",
       "  'yeah . he finished awhile ago .'],\n",
       " ['coffee for me i gotta slow down .', 'vodka tonic .'],\n",
       " ['when ?', 'tomorrow . at lunch .'],\n",
       " ['tomorrow . at lunch .', 'you ready ?'],\n",
       " ['where is she ?', 'takin a bath .'],\n",
       " ['takin a bath .', 'any i .d . ?'],\n",
       " ['only one guys checked in ?', 'yeah .'],\n",
       " ['are you hit ?', 'no . i m okay .'],\n",
       " ['no .', 'did you tell him you did ?'],\n",
       " ['boy she s so popular all the sudden .', 'what are you saying ?'],\n",
       " ['you know what that is right ?', 'no what is it ?'],\n",
       " ['watch the news ?', 'nah i musta missed it .'],\n",
       " ['nah why should you ?', 'i don t even watch tv .'],\n",
       " ['pretty .', 'hmmmm .'],\n",
       " ['you re polish ?', 'my folks are .'],\n",
       " ['my folks are .', 'stay here .'],\n",
       " ['you goin to the escort service ?', 'you got any better ideas ?'],\n",
       " ['you got any better ideas ?', 'mind if i ride along with you ?'],\n",
       " ['mind if i ride along with you ?',\n",
       "  'this has nothing to do with your fire .'],\n",
       " ['two heads .', 'better than one .'],\n",
       " ['you thirsty ?', 'i m on duty .'],\n",
       " ['why not ?', 'something back home ?'],\n",
       " ['you wanna talk to her alone ?', 'yeah .'],\n",
       " ['yeah .', 'what would your girlfriend think of that ?'],\n",
       " ['what would your girlfriend think of that ?', 'i don t have a girlfriend .'],\n",
       " ['i don t have a girlfriend .', 'my point exactly .'],\n",
       " ['my point exactly .', 'i m serious here .'],\n",
       " ['i m serious here .', 'so am i .'],\n",
       " ['so . . .who s nicky ?', 'what do you want ?'],\n",
       " ['i kill someone famous .', 'then do it asshole .'],\n",
       " ['how many victims are up there ?',\n",
       "  'there are two bodies found at this point .'],\n",
       " ['there are two bodies found at this point .',\n",
       "  'can we go up to the crime scene ?'],\n",
       " ['eddie are you okay ?', 'yeah . now s not a good time .'],\n",
       " ['yeah . now s not a good time .', 'alright .'],\n",
       " ['alright .', 'alright ?'],\n",
       " ['alright ?', 'alright .'],\n",
       " ['alright .', 'alright .'],\n",
       " ['alright .', 'okay .'],\n",
       " ['hey honey .', 'hey .'],\n",
       " ['that s good .', 'yeah .'],\n",
       " ['yeah .', 'well that s great .'],\n",
       " ['okay til tonight .', 'tonight .'],\n",
       " ['tonight .', 'you promise ?'],\n",
       " ['you promise ?', 'yeah . i promise .'],\n",
       " ['yeah yeah . good thing .', 'okay .'],\n",
       " ['okay .', 'see you later . good luck .'],\n",
       " ['see you later . good luck .', 'thank you .'],\n",
       " ['thank you .', 'don t be late .'],\n",
       " ['ready ?', 'keep them out of my way .'],\n",
       " ['keep them out of my way .', 'okay . you ready ?'],\n",
       " ['okay . you ready ?', 'yeah yeah . jesus .'],\n",
       " ['you stuff sausage in it .', 'and what do you do with the bones ?'],\n",
       " ['and what do you do with the bones ?', 'dog food .'],\n",
       " ['are you married ?', 'no . are you proposing ?'],\n",
       " ['tell him to put his gun down !', 'let her go ! let her go ! !'],\n",
       " ['hi i m honey .', 'where s czech girl ?'],\n",
       " ['next . could i see your documents please ?', 'yes sir .'],\n",
       " ['two weeks holiday .', 'how much money are you carrying with you ?'],\n",
       " ['how much money are you carrying with you ?',\n",
       "  'i have five hundred dollars .'],\n",
       " ['yes .', 'please join us . come on forward .'],\n",
       " ['please join us . come on forward .', 'is there a problem ?'],\n",
       " ['how long are you planning to stay ?', 'two weeks .'],\n",
       " ['two weeks .', 'i d like to speak for himself okay ?'],\n",
       " ['i d like to speak for himself okay ?', 'he doesn t speak english .'],\n",
       " ['don t fool around .', 'okay .'],\n",
       " ['did you hear what i said ?', 'i want to document my trip to america .'],\n",
       " ['what ?', 'smell like chemicals . . .for smoking drugs .'],\n",
       " ['speak english !', 'you said speak czech !'],\n",
       " ['get in the bathroom !', 'whatever we do we fuck her right ?'],\n",
       " ['shut up .', 'does it hurt ?'],\n",
       " ['oh shit . i hate looking at that !', 'don t want to film this ?'],\n",
       " ['let me get a shot of it .', 'sit down !'],\n",
       " ['i m serious .', 'shut up . look !'],\n",
       " ['you got that ?', 'no i don t get that !'],\n",
       " ['we spent it !', 'ha . ha .'],\n",
       " ['i can get you a job .', 'a job ?'],\n",
       " ['a job ?', 'yes the money is good .'],\n",
       " ['yes the money is good .', 'as a plumber ? !'],\n",
       " ['as a plumber ? !', 'it s easy to learn .'],\n",
       " ['robert . . . ?', 'what are you doing here ?'],\n",
       " ['what are you doing here ?', 'you ve got a call .'],\n",
       " ['yeah ?', 'paulie you ve got kids right ?'],\n",
       " ['well he . . .', 'i want to hear everything he said .'],\n",
       " ['i want to hear everything he said .', 'i m trying to tell you .'],\n",
       " ['i m trying to tell you .', 'alright . go ahead .'],\n",
       " ['a cheap hotel .', 'what are you coming here to do ?'],\n",
       " ['what are you coming here to do ?', 'i m here for movies .'],\n",
       " ['no . go ahead .', 'thanks . appreciate it .'],\n",
       " ['what was that ?', 'evidence . of a homicide .'],\n",
       " ['i ll take him .', 'no way ! he s mine !'],\n",
       " ['no way ! he s mine !', 'we re takin him . don t argue !'],\n",
       " ['we re takin him . don t argue !', 'he s my collar !'],\n",
       " ['he s my collar !', 'well he killed my partner !'],\n",
       " ['fire department ? firemen don t carry guns .', 'oh yeah ? guess again .'],\n",
       " ['oh yeah why ?', 'cause eddie woulda locked him up by now !'],\n",
       " ['mouth s clean too .', 'clean ?'],\n",
       " ['clean ?', 'don t blow your nose !'],\n",
       " ['he knew all along .', 'what ? ?'],\n",
       " ['yeah ?', 'maybe you can be his stand in .'],\n",
       " ['bobby bobby ! where re you hit ? !', 'it hurts . aw jesus !'],\n",
       " ['it hurts . aw jesus !', 'lay down . stay down bobby .'],\n",
       " ['how was it ?', 'not good .'],\n",
       " ['get outta here !', 'what the hell happened ?'],\n",
       " ['continued', 'she s wonderful .'],\n",
       " ['right . just a sec .', 'okay .'],\n",
       " ['okay .', 'okay come on down .'],\n",
       " ['really .', 'yes .'],\n",
       " ['that seems very unlikely .', 'yes i thought so .'],\n",
       " ['i know . it would be almost inconceivable .',\n",
       "  'but not completely inconceivable ?'],\n",
       " ['you re kidding .', 'no .'],\n",
       " ['hal ?', 'yes .'],\n",
       " ['i m sorry about the misunderstanding hal .', 'well don t worry about it .'],\n",
       " ['well don t worry about it .', 'and don t you worry about it .'],\n",
       " ['and don t you worry about it .',\n",
       "  'is your confidence in me fully restored ?'],\n",
       " ['is your confidence in me fully restored ?', 'yes it is hal .'],\n",
       " ['too bad about frank isn t it ?', 'yes it is .'],\n",
       " ['continued', 'did they have any explanation for this ?'],\n",
       " ['continued', 'well what is it ?'],\n",
       " ['i m having a party tomorrow .', 'yes i know that sweetheart .'],\n",
       " ['yes i know that sweetheart .', 'are you coming to my party ?'],\n",
       " ['when are you coming home ?', 'in three days darling i hope .'],\n",
       " ['where is mrs . brown ?', 'she s in the bathroom .'],\n",
       " ['yes daddy .', 'bye bye now sweetheart .'],\n",
       " ['bye bye now sweetheart .', 'goodbye daddy .'],\n",
       " ['oh thank you very much .', 'thank you .'],\n",
       " ['thank you .', 'well how s it going back there ?'],\n",
       " ['oh that s such a delightful age .', 'how is gregor ?'],\n",
       " ['are you quite sure ?', 'yes really thank you very much .'],\n",
       " ['that s right .', 'i see .'],\n",
       " ['that s true .', 'thank you very much hal .'],\n",
       " ['i understand .', 'hal maintain normal e .v .a . condition .'],\n",
       " ['hal maintain normal e .v .a . condition .', 'roger .'],\n",
       " ['roger .', 'hal check all airlock doors secure .'],\n",
       " ['yeah ?', 'i want to pick up my car .'],\n",
       " ['name ?', 'hammond .'],\n",
       " ['this is three years old .', 'yeah i ve been busy .'],\n",
       " ['yeah .', 'vodka .'],\n",
       " ['vodka .', 'maybe you better have a black russian .'],\n",
       " ['i want to drive awhile .', 'i ain t tired yet .'],\n",
       " ['pay money ?', 'yeah dummy . money .'],\n",
       " ['yeah dummy . money .', 'i never paid for it in my life .'],\n",
       " ['you re in a hurry .', 'yeah i been waiting three years .'],\n",
       " ['yeah i been waiting three years .',\n",
       "  'you just quit bein a priest or somethin ?'],\n",
       " ['i hear you ve got visitors .', 'would you guys . . .'],\n",
       " ['you re gonna help us take him .', 'no chance .'],\n",
       " ['i got a lot to protect .', 'bullshit .'],\n",
       " ['luther was part of the gang ?', 'what gang you talkin about jack ?'],\n",
       " ['hey this works pretty good .', 'thank you .'],\n",
       " ['thank you .', 'want to try it again ?'],\n",
       " ['now where we goin convict ?',\n",
       "  'mission district . gonna find us an indian .'],\n",
       " ['i don t give out the details .', 'last night two nights ago three ?'],\n",
       " ['last night .', 'you have a good time ?'],\n",
       " ['there .', 'must be billy s girl .'],\n",
       " ['must be billy s girl .', 'come on .'],\n",
       " ['how much ?', 'half a million .'],\n",
       " ['half a million .', 'jesus .'],\n",
       " ['we split ?', 'not likely convict .'],\n",
       " ['not likely convict .', 'you gonna let me keep any of it ?'],\n",
       " ['you stay with me . . .', 'no way . . .'],\n",
       " ['why ?', 'luther s on the move . . .'],\n",
       " ['notice something funny about that bus ?',\n",
       "  'yeah . it missed the last four stops .'],\n",
       " ['it s late they re closing . . .', 'don t worry about it .'],\n",
       " ['hey there she is . . .', 'whatever play i maker just back me up .'],\n",
       " ['jack ?', 'yeah ?'],\n",
       " ['what the bell happened ?', 'i lost them that s what happened .'],\n",
       " ['i lost them that s what happened .', 'how did they get away ?'],\n",
       " ['which one pulled the trigger ?', 'the indian . i was about yards away .'],\n",
       " ['the indian . i was about yards away .', 'you couldn t get to him ?'],\n",
       " ['tell me that s not the same guy .', 'hey . . . dick tracy .'],\n",
       " ['aw bullshit you heard wrong .', 'doesn t look like it .'],\n",
       " ['bullshit red tape .', 'i m heading out . how about you ?'],\n",
       " ['hey you re right .', 'you re hopeless .'],\n",
       " ['you re hopeless .', 'that s the way i see it too .'],\n",
       " ['i m all wet .', 'what s wrong with that ?'],\n",
       " ['you know something jack you really are hopeless .',\n",
       "  'that s the way i see it too .'],\n",
       " ['that s the way i see it too .', 'call me later .'],\n",
       " ['call me later .', 'you sure you want me to ?'],\n",
       " ['great place for lunch .', 'yeah one of my favorites .'],\n",
       " ['yeah one of my favorites .', 'you made the front page .'],\n",
       " ['jack wait . . .', 'just a second that s all !'],\n",
       " ['hello .', 'hi it s me . . .'],\n",
       " ['hi it s me . . .', 'fuck you .'],\n",
       " ['hey i don t believe it .', 'hiya kid .'],\n",
       " ['three more hours . . .', 'where is he ?'],\n",
       " ['you re impossible . . .', 'that s what i always say .'],\n",
       " ['hard man to live with .', 'how would you know ?'],\n",
       " ['how would you know ?', 'hey two days with him is enough .'],\n",
       " ['hey two days with him is enough .', 'that s no bull .'],\n",
       " ['hey . . .', 'shut up .'],\n",
       " ['stall .', 'what do you want ?'],\n",
       " ['how ya doin ?', 'can t complain .'],\n",
       " ['can t complain .', 'we got a lot to talk about .'],\n",
       " ['we got a lot to talk about .', 'yeah old times .'],\n",
       " ['surprise luther .', 'whaddya want ? i thought you were locked up'],\n",
       " ['don t give me this we were partners .', 'billy go ahead break it . . .'],\n",
       " ['let her go .', 'first the money .'],\n",
       " ['how you doing man ?', 'not bad not bad .'],\n",
       " ['you want to go outside ?', 'naw right here s okay .'],\n",
       " ['don t mess with me . how much ?', 'five bills .'],\n",
       " ['five bills .', 'five . on credit .'],\n",
       " ['five . on credit .', 'this ain t a credit business .'],\n",
       " ['give it back .', 'try and take it .'],\n",
       " ['. . .we re saved !', 'i m fucked !'],\n",
       " ['excuse me i m looking for a priest .',\n",
       "  'weddings are one floor down . congratulations .'],\n",
       " ['who are you ?', 'i brought the girl remember ?'],\n",
       " ['i brought the girl remember ?', 'the girl ?'],\n",
       " ['he s a she !', 'you noticed . . .'],\n",
       " ['they all like this in your family father ?', 'she s an exception . .'],\n",
       " ['it means never without my permission .', 'that s what i thought .'],\n",
       " ['what kind of mission ?', 'we have to save the world .'],\n",
       " ['we have to save the world .', 'good luck . .'],\n",
       " ['good luck . .', 'of course .'],\n",
       " ['leeloo s in trouble ?', 'when is she not in trouble ?'],\n",
       " ['it s a miracle ! ! !', 'what is ?'],\n",
       " ['they really made her . . .', 'perfect .'],\n",
       " ['yeah ?', 'hey bud ! finger here .'],\n",
       " ['i just found a picture of you .', 'how do i look ?'],\n",
       " ['how do i look ?', 'like shit .'],\n",
       " ['uh . . . at least fifty .', 'in your dreams ! see you tonight !'],\n",
       " ['when evil returns so shall we .', 'we will be ready lord .'],\n",
       " ['yeah ?', 'have you pulled yourself together ?'],\n",
       " ['have you pulled yourself together ?', '. . .not yet .'],\n",
       " ['i m sorry . .', 'this is a police control action . .'],\n",
       " ['. . . . . .', 'found it ?'],\n",
       " ['. . .hi .', 'does it get any better or what !'],\n",
       " ['you know how to fly this thing ?', 'it s like a cab isn t it ?'],\n",
       " ['what mission ?', 'to save the world .'],\n",
       " ['to save the world .', 'where have i heard this song before ?'],\n",
       " ['don t you open your messages ?', 'i ve had enough good news for today'],\n",
       " ['old tricks are the best tricks eh ?', 'i m not going .'],\n",
       " ['i m not going .', 'why not ?'],\n",
       " ['. . .shit !', 'what is it ?'],\n",
       " ['it s my wife .', 'i thought you were divorced .'],\n",
       " ['three of us will never fit in there !', 'oh yes you will . . .'],\n",
       " ['you hear that ?', 'cornelius . .'],\n",
       " ['cornelius . .', 'oh god !'],\n",
       " ['finished what ?', 'learning language .'],\n",
       " ['learning language .', 'which one ?'],\n",
       " ['which one ?', 'all .'],\n",
       " ['you noticed . .', 'ok you can turn around !'],\n",
       " ['it s up to you now angel !', 'i m so tired . . .'],\n",
       " ['. . .like love . . .', 'exactly .'],\n",
       " ['tell me . . .', 'i love you . . .'],\n",
       " ['the cash man !', 'been here long ?'],\n",
       " ['thanks . .', 'you re welcome . .'],\n",
       " ['this is all that survived ?', 'actually only one cell survived . .'],\n",
       " ['actually only one cell survived . .', 'have you identified it ?'],\n",
       " ['they just landed in the desert .', 'how much time is left ?'],\n",
       " ['is that better ?', 'perfect mr . president .'],\n",
       " ['options .', 'wait or act .'],\n",
       " ['got it .', 'how s our deal coming along ?'],\n",
       " ['welcome home .', 'do you know how much i missed you ?'],\n",
       " ['i m not accusing you . . .', 'well i m not smoking okay ?'],\n",
       " ['well i m not smoking okay ?', 'okay i believe you .'],\n",
       " ['i love you .', 'i love you .'],\n",
       " ['. . . what s going on ?', 'just do it amy please go .'],\n",
       " ['i wanted to call . i couldn t .', 'you couldn t ?'],\n",
       " ['you couldn t ?', 'you don t understand . . .'],\n",
       " ['i don t know what to say', 'you re killing me . . .'],\n",
       " ['you re killing me . . .', 'don t . . .'],\n",
       " ['who are you calling ?', 'mrs . christian .'],\n",
       " ['mrs . christian .', 'what ?'],\n",
       " ['anything harder ?', 'there s nothing harder .'],\n",
       " ['there s nothing harder .', 'snuff ?'],\n",
       " ['snuff ?', 'what you see is what i got mister .'],\n",
       " ['bullshit .', 'i m telling you . . .'],\n",
       " ['dino . . .', 'nobody knows anything .'],\n",
       " ['what the fuck . . . !', 'i promised him to machine .'],\n",
       " ['a fellow investor .', 'hmm .'],\n",
       " ['that s five thousand dollars .', 'is it ?'],\n",
       " ['and they are ?', 'i want to watch you work .'],\n",
       " ['i want to watch you work .', 'i ll consider it .'],\n",
       " ['i d rather you didn t .', 'what s the problem ?'],\n",
       " ['what s the problem ?', 'i m camera shy .'],\n",
       " ['where s that ?', 'brooklyn . don t be late .'],\n",
       " ['you brought the money ?', 'right here .'],\n",
       " ['excellent .', 'where are the women ?'],\n",
       " ['where are the women ?', 'they should be here any minute .'],\n",
       " ['what are you . . . ?', 'take out your gun !'],\n",
       " ['you re a dead man .', 'leave him alone .'],\n",
       " ['leave him alone .', 'fuck off .'],\n",
       " ['call me tom .', 'alright tom .'],\n",
       " ['i figured you share information .', 'we do .'],\n",
       " ['celebrity films .', 'eddie .'],\n",
       " ['eddie .', 'yeah who s this ?'],\n",
       " ['yeah who s this ?', 'i know what you did .'],\n",
       " ['i know what you did .', 'what ?'],\n",
       " ['what ?', 'i know what you did .'],\n",
       " ['i know what you did .', 'who is this .'],\n",
       " ['i m gonna kill you .', 'don t bore me with that bullshit .'],\n",
       " ['don t bore me with that bullshit .', 'how d you find me here ?'],\n",
       " ['don t ask questions .', 'fuck you !'],\n",
       " ['starting to recognize a pattern ?', 'what do you want ?'],\n",
       " ['what do you want ?', 'who is machine ?'],\n",
       " ['who is machine ?', 'i don t know . . .'],\n",
       " ['i don t know . . .', 'i want his name .'],\n",
       " ['i want his name .', 'i told you i don t know .'],\n",
       " ['yeah .', 'how much did he pay you ?'],\n",
       " ['how much did he pay you ?',\n",
       "  'thirty thousand each that fucking cocksucker .'],\n",
       " ['why ?', 'because we re going there .'],\n",
       " ['stop talking .', 'you got absolute zero .'],\n",
       " ['you got absolute zero .', 'show me where you buried her .'],\n",
       " ['do it .', 'don t think i won t .'],\n",
       " ['easy enough for you .', 'i never killed anyone .'],\n",
       " ['of what sort ?', 'you are a private investigator ?'],\n",
       " ['you are a private investigator ?', 'that s right .'],\n",
       " ['they re no friends of mine .',\n",
       "  'except you re willing commit murder with them .'],\n",
       " ['you re asking me why ?', 'i m asking .'],\n",
       " ['you almost went over your limit .', 'fuck you .'],\n",
       " ['give me the film .', 'you ll get it when we get there .'],\n",
       " ['big date tonight ?', 'yeah . . . guess so .'],\n",
       " ['how long you been working there ?', 'three four years .'],\n",
       " ['i m not a cop .', 'you re a private eye . like shaft .'],\n",
       " ['you re a private eye . like shaft .', 'not quite .'],\n",
       " ['how much ?', 'how much do you make now ?'],\n",
       " ['how much do you make now ?', 'four hundred a week off the books .'],\n",
       " ['. . . hello . . . ?', 'wake up pops . your education begins tonight .'],\n",
       " ['how old are you ?', 'twenty five .'],\n",
       " ['twenty five .', 'where are your parents ?'],\n",
       " ['where are your parents ?', 'i don t know where are yours ?'],\n",
       " ['specialty product .', 'you re learning .'],\n",
       " ['you re learning .', 'where does he sell it ?'],\n",
       " ['it s their presidential suite .', 'great .'],\n",
       " ['i told you i can t not yet .', 'you don t have any other choice .'],\n",
       " ['hello . . . ?', 'i m here .'],\n",
       " ['hello ?', 'mrs . christian tom welles here .'],\n",
       " ['mrs . christian tom welles here .', 'how are you ? having any luck ?'],\n",
       " ['what was she running from ?', 'i don t know .'],\n",
       " ['why do you think he did it ?', 'it got to be too much for him .'],\n",
       " ['we re all like that .', 'are you religious ?'],\n",
       " ['are you religious ?', 'no .'],\n",
       " ['no .', 'you should be .'],\n",
       " ['what is this ?', 'those are her belongings .'],\n",
       " ['those are her belongings .', 'her belongings ?'],\n",
       " ['none too discreet is he ?', 'no sir he is not .'],\n",
       " ['no you may not .', 'okay . fine .'],\n",
       " ['alice you think you can leave ?', 'what s wrong ?'],\n",
       " ['what s wrong ?', 'kincaid and joey died last night .'],\n",
       " ['kincaid and joey died last night .', 'what ?'],\n",
       " ['you alright ?', 'kristen . . .'],\n",
       " ['i m sure they re around .', 'yeah i m not so sure .'],\n",
       " ['we have matching luggage .', 'what ?'],\n",
       " ['you ve been up all night ?', 'that obvious huh ?'],\n",
       " ['that obvious huh ?', 'then you saw him too ?'],\n",
       " ['no . . .', 'you re his sister right ?'],\n",
       " ['i ve been working double shifts .', 'extra money huh ?'],\n",
       " ['how long have you been awake ?', 'three days .'],\n",
       " ['not really .', 'is there something we can do ?'],\n",
       " ['you look great !', 'save it for later . come on !'],\n",
       " ['rick please .', 'alright i think i see salvation . . .'],\n",
       " ['it was freddy .', 'enough of that crap .'],\n",
       " ['t t thanks alice . . .', 'earth to alice . . .'],\n",
       " ['i don t get it .', 'let me talk to you .'],\n",
       " ['hey man we re all sorry . . .', 'she knew she was gonna die .'],\n",
       " ['something wrong with the stairs ?', 'avoid all contact day .'],\n",
       " ['avoid all contact day .', 'what ?'],\n",
       " ['what is it ?', 'oh god ! he killed them !'],\n",
       " ['i gotta get out of here .', 'you just stay put . you need rest .'],\n",
       " ['excuse us dear .', 'it s okay dan'],\n",
       " ['shouldn t you be in your room jacob ?',\n",
       "  'it s lonely in there in my room .'],\n",
       " ['it s lonely in there in my room .', 'my name is . . .'],\n",
       " ['i m sorry your boyfriend got killed .', 'how did you know that ?'],\n",
       " ['is that who you re waiting for ?', 'no . . .'],\n",
       " ['who says i don t like you ?', 'my friend with the funny hand .'],\n",
       " ['where is he ?', 'he s inside you where he hides .'],\n",
       " ['hi beautiful .', 'jesus ! don t do that !'],\n",
       " ['jesus ! don t do that !', 'sorry babe .'],\n",
       " ['you re right .', 'there you go . love you .'],\n",
       " ['there you go . love you .', 'me too .'],\n",
       " ['where are we going ?', 'to take a picture .'],\n",
       " ['very funny .', 'alice . . .'],\n",
       " ['alice !', 'i ve got to go .'],\n",
       " ['but dad', 'now .'],\n",
       " ['you do good work alice .', 'so did dan .'],\n",
       " ['mark are you okay ?', 'yeah . i m just aces .'],\n",
       " ['then get out !', 'mark !'],\n",
       " ['who s jacob ?', 'my baby !'],\n",
       " ['my baby !', 'what you named it already ?'],\n",
       " ['they think i m nuts .', 'that s their problem .'],\n",
       " ['poor woman . . .', 'no shit .'],\n",
       " ['stop saying that it s bullshit .', 'i want to talk about the baby .'],\n",
       " ['vomit ?', 'faint .'],\n",
       " ['it s okay .', 'stick around please ?'],\n",
       " ['you too ?', 'he invited me to his house last night .'],\n",
       " ['what is it ?', 'your out . this came for you .'],\n",
       " ['your out . this came for you .', 'my father ! he s not ?'],\n",
       " ['but if they u do u ?', 'i don t know .'],\n",
       " ['you ve got to let us try skipper', 'us ?'],\n",
       " ['yeah ?', 'listen ! hear that ?'],\n",
       " ['you hear that ?', 'the sound again ?'],\n",
       " ['somewhere down there ?', 'wonder where powell and carney are ?'],\n",
       " ['wonder where powell and carney are ?',\n",
       "  'we ll have to look for them later .'],\n",
       " ['well ?', 'i m with u you ! u'],\n",
       " ['is there any way out of it ?', 'seems to be all around . . .'],\n",
       " ['seems to be all around . . .', 'what about down ?'],\n",
       " ['what about down ?', 'i . . .don t know !'],\n",
       " ['what course skipper ?', 'right at our one eyed friend !'],\n",
       " ['as we near the pole . . .', 'there s got to be an explanation !'],\n",
       " ['what s the running time ?', 'thirty four seconds !'],\n",
       " ['right u at u him ?', 'that s what i said !'],\n",
       " ['straight to the pole at almost fifty knots !', 'nothing we can do now .'],\n",
       " ['swell !', 'your friend was to remain where he was !'],\n",
       " ['he did !', 'i am afraid not . therefore'],\n",
       " ['well i ll be !', 'i ll be another !'],\n",
       " ['twombley involved ?', 'no .'],\n",
       " ['what are you boys up to ?', 'same old shit .'],\n",
       " ['i plan to . soon .', 'how soon ?'],\n",
       " ['how soon ?', 'this spring .'],\n",
       " ['you heard the news .', 'i hear twombley got shot .'],\n",
       " ['i hear twombley got shot .', 'yeah .'],\n",
       " ['he s on to us !', 'shit ! what are we gonna do ?'],\n",
       " ['you can t buy wade off .', 'we bought you .'],\n",
       " ['we bought you .', 'that was me .'],\n",
       " ['if you get it ?', 'yeah .'],\n",
       " ['yeah .', 'you might not kill it .'],\n",
       " ['you might not kill it .', 'you think so .'],\n",
       " ['and you ll get your extra hundred bucks .', 'wonderful !'],\n",
       " ['i used to play ball .', 'yeah ?'],\n",
       " ['you played for the sox ?', 'double a . new britain .'],\n",
       " ['double a . new britain .', 'oh .'],\n",
       " ['really .', 'they said .'],\n",
       " ['they said .', 'hmm .'],\n",
       " ['safety on ?', 'yeah .'],\n",
       " ['yeah .', 'this way .'],\n",
       " ['this way .', 'sun s gettin high .'],\n",
       " ['bastard s got his high beams on .', 'shit .'],\n",
       " ['where d twombley get shot ?', 'in the chest .'],\n",
       " ['in the chest .', 'no i mean whereabouts .'],\n",
       " ['the ambulance guys lugged him up .', 'you stayed away ?'],\n",
       " ['you stayed away ?', 'yeah .'],\n",
       " ['yeah .', 'where d you get the blood ?'],\n",
       " ['where d you get the blood ?', 'what blood ?'],\n",
       " ['sure you did .', 'what ?'],\n",
       " ['what ?', 'saw him do it ?'],\n",
       " ['i m fucking out of here .', 'lawford ?'],\n",
       " ['why do they do that ?', 'do what ?'],\n",
       " ['do what ?', 'you know .'],\n",
       " ['you know .', 'break stuff ?'],\n",
       " ['break stuff ?', 'yeah . it s stupid .'],\n",
       " ['yeah . it s stupid .', 'i guess they re stupid .'],\n",
       " ['was it funny ?', 'to us it was .'],\n",
       " ['to us it was .', 'but it s not funny now .'],\n",
       " ['i bet you did lots of bad things .', 'what are you talking about ?'],\n",
       " ['what are you talking about ?', 'i just think you used to be bad .'],\n",
       " ['it s not that .', 'what then ?'],\n",
       " ['what then ?', 'it s stupid .'],\n",
       " ['it s stupid .', 'it s fun .'],\n",
       " ['no .', 'no what ?'],\n",
       " ['i called mommy .', 'what ? you called mommy ? just now ?'],\n",
       " ['what ? you called mommy ? just now ?', 'yes .'],\n",
       " ['yes .', 'jesus why ?'],\n",
       " ['it s pretty old .', 'it belongs to pop .'],\n",
       " ['it belongs to pop .', 'pop ?'],\n",
       " ['pop ?', 'grandpa . my father . it s his .'],\n",
       " ['grandpa . my father . it s his .', 'oh .'],\n",
       " ['no .', 'what do you want then ?'],\n",
       " ['what do you want then ?', 'nothing .'],\n",
       " ['okay .', 'fine .'],\n",
       " ['please don t cry . please honey .', 'what are you sorry for ?'],\n",
       " ['i want to go home .', 'you can t .'],\n",
       " ['that s illegal you know .', 'i know .'],\n",
       " ['i know .', 'you re a policeman .'],\n",
       " ['jill please it s alright . nothing happened .', 'i want to go home .'],\n",
       " ['i want to go home .', 'okay let s go home then .'],\n",
       " ['his son in law damn near killed me .', 'huh ?'],\n",
       " ['you don t want the extra police pay ?', 'i m not saying that .'],\n",
       " ['what s the hurry ?', 'a hunting accident . jack and twombley .'],\n",
       " ['a hunting accident . jack and twombley .', 'huh ?'],\n",
       " ['huh ?', 'i figured you already heard .'],\n",
       " ['how you holding up wade ?', 'i m fine fine .'],\n",
       " ['i saw mel gordon in here this morning .', 'so ?'],\n",
       " ['i won t . you interested ?', 'maybe .'],\n",
       " ['maybe .', 'you and mel gordon ?'],\n",
       " ['you and mel gordon ?', 'could be .'],\n",
       " ['lillian !', 'where s jill ?'],\n",
       " ['yeah .', 'she s grown up some hasn t she ?'],\n",
       " ['we should talk .', 'we ve done all our talking wade .'],\n",
       " ['we ve done all our talking wade .', 'it s just . . .'],\n",
       " ['yeah lots .', 'see . get your boots .'],\n",
       " ['see . get your boots .', 'hi honey .'],\n",
       " ['did you get his number ?', 'i know who it is .'],\n",
       " ['i know who it is .', 'good . who ?'],\n",
       " ['good . who ?', 'mel gordon .'],\n",
       " ['mel gordon .', 'i still don t understand'],\n",
       " ['new hat ? jill s up i see .', 'for a while .'],\n",
       " ['for a while .', 'how s she doing ?'],\n",
       " ['how s she doing ?', 'okay . she s fine .'],\n",
       " ['see you tomorrow maybe .', 'you okay ?'],\n",
       " ['you okay ?', 'yeah .'],\n",
       " ['you okay ?', 'yeah .'],\n",
       " ['yeah .', 'i m sorry about what i said .'],\n",
       " ['i m sorry about what i said .', 'said what ?'],\n",
       " ['forget it .', 'i m sorry .'],\n",
       " ['you don t mean that .', 'yeah . i mean that .'],\n",
       " ['call me .', 'tonight . let s get together .'],\n",
       " ['tonight . let s get together .', 'okay .'],\n",
       " ['money .', 'jack doesn t need money .'],\n",
       " ['alright . i ll think about it .', 'good .'],\n",
       " ['strange .', 'think they re alright ?'],\n",
       " ['think they re alright ?', 'of course ! i would ve heard .'],\n",
       " ['of course ! i would ve heard .', 'how ?'],\n",
       " ['how ?', 'i don t know for christ s sake !'],\n",
       " ['this is nuts .', 'wade .'],\n",
       " ['there s a furnace .', 'you re not using it today ?'],\n",
       " ['it makes me sad .', 'can ?'],\n",
       " ['it don t look right .', 'what ?'],\n",
       " ['jack ?', 'the other guy .'],\n",
       " ['his office . you mean my old office .',\n",
       "  'well i guess that s what he said .'],\n",
       " ['well i guess that s what he said .', 'he got his deer yet ?'],\n",
       " ['just do it .', 'atta go .'],\n",
       " ['nothing .', 'you no good pup !'],\n",
       " ['where s ma ?', 'she s coming .'],\n",
       " ['is there something wrong with the phone ?', 'in the living room .'],\n",
       " ['love ! i m made of love !', 'call it what you want .'],\n",
       " ['call it what you want .', 'everything you know is from me .'],\n",
       " ['everything you know is from me .', 'yeah .'],\n",
       " ['yeah .', 'bang !'],\n",
       " ['bang !', 'you and me .'],\n",
       " ['who ?', 'twombley .'],\n",
       " ['twombley .', 'no shit .'],\n",
       " ['no shit .', 'you think jack shot him ?'],\n",
       " ['you think jack shot him ?', 'well it was an accident .'],\n",
       " ['lillian was here . in lawford .', 'huh ?'],\n",
       " ['huh ?', 'the night before the shooting .'],\n",
       " ['the night before the shooting .', 'how was she ?'],\n",
       " ['yeah i guess .', 'get some sleep .'],\n",
       " ['no thanks . i don t drink .', 'yeah . i forgot .'],\n",
       " ['what about margie ?', 'what about her ?'],\n",
       " ['what about her ?', 'well do you still plan to get married ?'],\n",
       " ['which is ?', 'that it wasn t an accident .'],\n",
       " ['that it wasn t an accident .', 'then who shot him ?'],\n",
       " ['motive . you gotta have a motive .', 'money .'],\n",
       " ['well you aren t the president dear .', 'yeah no duh .'],\n",
       " ['i m sure he s busy .', 'don t you even want to ask ?'],\n",
       " ['alice . . .', 'mom just this once give it a rest .'],\n",
       " ['some kids were teasing you ?', 'that s not really the point .'],\n",
       " ['mom ?', 'yes dear ?'],\n",
       " ['it was the experience of a lifetime .', 'how bout a hug for the old man .'],\n",
       " ['alice !', 'daddy . . .'],\n",
       " ['daddy . . .', 'alice . . . i . . .'],\n",
       " ['how you doing sweetie ?', 'been better dad . . . you ?'],\n",
       " ['there they are !', 'okay i m slowing us down .'],\n",
       " ['do you see the maintenance panel ?', 'got it .'],\n",
       " ['you read my mind .', 'put your pilot on .'],\n",
       " ['put your pilot on .', 'he s busy being dead .'],\n",
       " ['who s flying the fucking plane ?', 'i m doing what i can .'],\n",
       " ['got it .', 'stay cool .'],\n",
       " ['the chief justice ? what on earth for ?', 'to swear you in as president .'],\n",
       " ['yes mr . president .', 'why ?'],\n",
       " ['why ?', 'because it is my duty .'],\n",
       " ['the rest of the secret service ?', 'dead .'],\n",
       " ['dead .', 'how many others killed ?'],\n",
       " ['how many others killed ?', 'nine .'],\n",
       " ['nine .', 'any of us ?'],\n",
       " ['please tell me your name .', 'maria . . . maria mitchell .'],\n",
       " ['you re pointing a gun at me .', 'very good . thank you ms . mitchell .'],\n",
       " ['now or he dies please .', 'come on alice .'],\n",
       " ['what do you know of my husband ?', 'i know he left you behind .'],\n",
       " ['do you have to be so brutal ?', 'yes'],\n",
       " ['yes', 'why ? do you enjoy it ?'],\n",
       " ['no .', 'say something dear .'],\n",
       " ['four . . .', 'jim . . .'],\n",
       " ['jim . . .', 'three . . .'],\n",
       " ['stop .', 'you ll do it ?'],\n",
       " ['i ll not going without my family .', 'yes sir .'],\n",
       " ['sir we stay with the president .', 'that isn t necessary .'],\n",
       " ['may i speak to you for a moment ?', 'can t it wait ?'],\n",
       " ['can t it wait ?', 'no mr . president . it can t .'],\n",
       " ['you know what ?', 'what ?'],\n",
       " ['what ?', 'i miss you . and i miss her .'],\n",
       " ['what are you doing ?', 'flying the plane .'],\n",
       " ['the fax machines .', 'excuse me ?'],\n",
       " ['excuse me ?', 'the fax machines .'],\n",
       " ['where are we sending it ?', 'white house situation room .'],\n",
       " ['someone should give you a raise .',\n",
       "  'actually sir you could be that someone .'],\n",
       " ['what s going on ?', 'we re under attack .'],\n",
       " ['we re under attack .', 'where s my family ?'],\n",
       " ['where s my family ?', 'we re handling it sir .'],\n",
       " ['one .', 'but . . .'],\n",
       " ['but . . .', 'two . . . three . go !'],\n",
       " ['who can i say is calling ?', 'this is the president .'],\n",
       " ['this is the president .', 'yeah right .'],\n",
       " ['you give me ulcers .', 'that s my job .'],\n",
       " ['iraq sir . we re over iraq .', 'iraq ? shep you re fired .'],\n",
       " ['what ?', 'i just wish it was that simple .'],\n",
       " ['forget it . i was reading .', 'i was reading too .'],\n",
       " ['i was reading too .', 'what s the story ?'],\n",
       " ['did you feel that ?', 'yes i did . . .'],\n",
       " ['sir ?', 'you better take this .'],\n",
       " ['elaine .', 'te . . . !'],\n",
       " ['it s got to be stopped !',\n",
       "  'but ted the invitations have already gone out .'],\n",
       " ['ted what s wrong ?', 'ask simon .'],\n",
       " ['ted we re taking off !', 'let me by elaine .'],\n",
       " ['ted .', 'not now elaine !'],\n",
       " ['not now elaine !', 'ted !'],\n",
       " ['i ve never used the word insane ted .', 'what word would you use elaine ?'],\n",
       " ['elaine !', 'ted !'],\n",
       " ['ted !', 'elaine what s going on ?'],\n",
       " ['elaine what s going on ?', 'ted there s no time to explain .'],\n",
       " ['ted we ve only got ten minutes .', 'not now elaine .'],\n",
       " ['not now elaine .', 'i mean until we start to burn up .'],\n",
       " ['are you afraid ?', 'not when i m with you ted .'],\n",
       " ['set !', 'now !'],\n",
       " ['now !', 'compute !'],\n",
       " ['frank s the best pilot in the program .', 'i m so excited simon .'],\n",
       " ['i m so excited simon .', 'i guess this is a first for you .'],\n",
       " ['i guess this is a first for you .', 'no i ve been excited before .'],\n",
       " ['have you got it straightened out now ?', 'i think so .'],\n",
       " ['i think so .', 'that s my girl .'],\n",
       " ['maybe .', 'simon what are you saying ? !'],\n",
       " ['roger .', 'you can do it from up here captain .'],\n",
       " ['negative .', 'that doesn t make sense . repeat analysis .'],\n",
       " ['that doesn t make sense . repeat analysis .', 'negative .'],\n",
       " ['negative .', 'that s not possible .'],\n",
       " ['go ahead .', 'you have great tits .'],\n",
       " ['can i hold him ?', 'sure .'],\n",
       " ['sure .', 'he s a boy dog .'],\n",
       " ['he s a boy dog .', 'yeah .'],\n",
       " ['all right . here .', 'what . . . ?'],\n",
       " ['you re sure ?', 'i m sure .'],\n",
       " ['sixteen c why ?', 'he s carrying a bomb .'],\n",
       " ['he s carrying a bomb .', 'a b . . .'],\n",
       " ['captain oveur ?', 'mr . kurtz i presume .'],\n",
       " ['i have to see bud kruger .', 'do you have an appointment sir ?'],\n",
       " ['you can t go in there !', 'don t try to stop me !'],\n",
       " ['ah won t you sit down ?', 'thank you . cream ?'],\n",
       " ['captain how soon can we land ?', 'i can t tell .'],\n",
       " ['can t you take a guess ?', 'well . . .not for another two hours .'],\n",
       " ['what did he have ?', 'he had fish .'],\n",
       " ['elaine !', 'ted !'],\n",
       " ['ted what are you doing here ?', 'elaine i ve got to talk to you .'],\n",
       " ['i love you elaine .', 'i love you .'],\n",
       " ['rain .', 'and a little ice .'],\n",
       " ['and a little ice .', 'and a little ice !'],\n",
       " ['rats ! i ve lost number three .', 'what happened ted ? what went wrong ?'],\n",
       " ['ted . . .', 'yes ?'],\n",
       " ['see them elaine ?', 'uh huh .'],\n",
       " ['we have a visitor .', 'hello .'],\n",
       " ['you promise you ll write .', 'every day .'],\n",
       " ['bill ! bill ! good bye bill .', 'good bye darling .'],\n",
       " ['oh i can t stand it .', 'what is it ?'],\n",
       " ['hi !', 'i m randy .'],\n",
       " ['oh i d love to .', 'okay this is one of my favorites .'],\n",
       " ['roger .', 'huh ?'],\n",
       " ['roger .', 'huh ?'],\n",
       " ['excuse me sister ?', 'yes ?'],\n",
       " ['you okay ?', 'yeah . . .'],\n",
       " ['you are cassandra ?', 'that s right .'],\n",
       " ['in there .', 'show me .'],\n",
       " ['william harcourt ?', 'yes . . .'],\n",
       " ['this is becoming a serious breach of security .',\n",
       "  'he didn t recognize me .'],\n",
       " ['kill them both .', 'here ?'],\n",
       " ['here ?', 'do it !'],\n",
       " ['what s this ? what s going on ?', 'nothing .'],\n",
       " ['nothing .', 'nothing ?'],\n",
       " ['get the picture ?', 'and that fits ?'],\n",
       " ['why did you do it ?', 'why d i do what ?'],\n",
       " ['who said that ?', 'at the end of the bar .'],\n",
       " ['uh matthew . . .', 'back off george .'],\n",
       " ['back off george .', 'but i .'],\n",
       " ['but i .', 'i ll handle it .'],\n",
       " ['screw you .', 'screw me ? that can t be right .'],\n",
       " ['tell me .', 'your mother mates out of season .'],\n",
       " ['matthew you don t have to .', 'stay back ! i m okay .'],\n",
       " ['who is he ?', 'todd watson . the assistant manager .'],\n",
       " ['yeah . . . i know the routine .', 'you are married ?'],\n",
       " ['you are married ?', 'was . divorced .'],\n",
       " ['well let s roll george .', 'to the . . . to the beach ?'],\n",
       " ['stop the car .', 'why ?'],\n",
       " ['why ?', 'please i must get out here .'],\n",
       " ['what was that about ?', 'nothing .'],\n",
       " ['we ? you ve taken it ?', 'we all did .'],\n",
       " ['no ! we must do this alone .', 'do what ? ! george ? !'],\n",
       " ['what is this ? !', '. . . it s harcourt .'],\n",
       " ['. . . it s harcourt .', 'harcourt is dead .'],\n",
       " ['how do i look ?', 'you look very good .'],\n",
       " ['does that look at all suspicious to you ?',\n",
       "  'whatever gave you that idea ?'],\n",
       " ['get outta there !', 'i can t ! do you mind !'],\n",
       " ['movement !', 'position ?'],\n",
       " ['position ?', 'can t lock up . . .'],\n",
       " ['can t lock up . . .', 'talk to me hudson .'],\n",
       " ['talk to me hudson .', 'uh seems to be in front and behind .'],\n",
       " ['i ll go .', 'what ?'],\n",
       " ['how much time ?', 'plenty ! twenty six minutes !'],\n",
       " ['plenty ! twenty six minutes !', 'we re not leaving !'],\n",
       " ['you did okay bishop .', 'well thanks i'],\n",
       " ['no . there s no way !', 'hear me out . . .'],\n",
       " ['you son of a bitch .', 'don t make me pull rank ripley .'],\n",
       " ['still nothing from the colony ?', 'dead on all channels .'],\n",
       " ['what is it ?', 'i don t know .'],\n",
       " ['i don t know .', 'proceed inside .'],\n",
       " ['i told them to fall back . . .', 'they re but off ! do something !'],\n",
       " ['sir ?', 'yes hicks ?'],\n",
       " ['yes hicks ?', 'hudson sir . he s hicks .'],\n",
       " ['hudson sir . he s hicks .', 'what s the question ?'],\n",
       " ['save it .', 'sure hicks .'],\n",
       " ['let s get the fuck out of here !', 'not that tunnel the other one !'],\n",
       " ['the corner ! ready ?', 'do it !'],\n",
       " ['seventeen meters .', 'let s get these things lit .'],\n",
       " ['well you re not reading it right !', 'six meters . five . what the fu'],\n",
       " ['let s go ! let s go !', 'fuckin a !'],\n",
       " ['they re in the approach corridor .', 'on my way .'],\n",
       " ['they ll get us .', 'maybe . maybe not .'],\n",
       " ['locked .', 'stand back .'],\n",
       " ['hicks don t let him leave .', 'we ain t going anywhere .'],\n",
       " ['ellen .', 'don t be long ellen .'],\n",
       " ['fuck you .', 'anytime . anywhere .'],\n",
       " ['it s inside the complex .', 'you re just reading me .'],\n",
       " ['thanks .', 'uh what s next ?'],\n",
       " ['range twenty meters .', 'seal the door .'],\n",
       " ['and how are we today ?', 'terrible .'],\n",
       " ['casey . she s my only friend .', 'what about me ?'],\n",
       " ['i don t want you for a friend .', 'why not ?'],\n",
       " ['you promise ?', 'cross my heart .'],\n",
       " ['cross my heart .', 'and hope to die ?'],\n",
       " ['yes there are aren t there .', 'why do they tell little kids that ?'],\n",
       " ['no it s different honey .', 'did you ever have a baby ?'],\n",
       " ['did you ever have a baby ?', 'yes . a little girl .'],\n",
       " ['yes . a little girl .', 'where is she ?'],\n",
       " ['where is she ?', 'gone .'],\n",
       " ['gone .', 'you mean dead .'],\n",
       " ['burke ! open the door !', 'look !'],\n",
       " ['are we going to sleep now ?', 'that s right .'],\n",
       " ['that s right .', 'can we dream ?'],\n",
       " ['can we dream ?', 'yes honey . i think we both can .'],\n",
       " ['sixty maybe seventy families .', 'sweet jesus .'],\n",
       " ['his grace is very angry with you .', 'what do you mean ?'],\n",
       " ['well i heard you met herr mozart .', 'oh ? news travels fast in vienna .'],\n",
       " ['yes .', 'is there a part for me ?'],\n",
       " ['is there a part for me ?', 'no .'],\n",
       " ['no .', 'how do you know ?'],\n",
       " ['where ?', 'in a harem .'],\n",
       " ['in a harem .', 'what s that ?'],\n",
       " ['what s that ?', 'a brothel .'],\n",
       " ['a brothel .', 'oh !'],\n",
       " ['what does he look like ?', 'you might be disappointed .'],\n",
       " ['you might be disappointed .', 'why ?'],\n",
       " ['did you know ? had you heard ?', 'what ?'],\n",
       " ['what ?', 'the marriage !'],\n",
       " ['the marriage !', 'well what does it matter to you ?'],\n",
       " ['how was i ? tell me honestly .', 'you were sublime .'],\n",
       " ['you were sublime .', 'what did you think of the music ?'],\n",
       " ['what did you think of the music ?', 'extremely clever .'],\n",
       " ['extremely clever .', 'meaning you didn t like it .'],\n",
       " ['don t bother !', 'what ?'],\n",
       " ['what ?', 'don t bother .'],\n",
       " ['don t bother .', 'i ll be right back .'],\n",
       " ['oh excuse me !', 'is her mother still lying on the floor ?'],\n",
       " ['is her mother still lying on the floor ?', 'no she s fine .'],\n",
       " ['no she s fine .', 'i m so relieved .'],\n",
       " ['is she a good fuck ?', 'what ? ?'],\n",
       " ['what is it ?', 'i want to go !'],\n",
       " ['i want to go !', 'where ?'],\n",
       " ['where ?', 'i want to go back to vienna .'],\n",
       " ['i want to go back to vienna .', 'now ?'],\n",
       " ['now ?', 'yes !'],\n",
       " ['yes !', 'why ?'],\n",
       " ['that s stupid .', 'why ? people fart backwards .'],\n",
       " ['why ? people fart backwards .', 'do you think that s funny ?'],\n",
       " ['no i m not playing this game .', 'no this is serious . say it backwards .'],\n",
       " ['no this is serious . say it backwards .', 'no !'],\n",
       " ['tish i m tee . what s that ?', 'what ?'],\n",
       " ['what ?', 'tish i m tee .'],\n",
       " ['tish i m tee .', 'eat'],\n",
       " ['eat', 'yes .'],\n",
       " ['yes .', 'eat my ah !'],\n",
       " ['you borrowed money from your mother ?', 'yes !'],\n",
       " ['yes !', 'well don t do that again !'],\n",
       " ['what s the matter with you ?', 'tell them to go !'],\n",
       " ['tell them to go !', 'sssh . what is it ? tell me .'],\n",
       " ['sssh . what is it ? tell me .', 'no !'],\n",
       " ['no !', 'yes !'],\n",
       " ['yes !', 'i love you ! i love you !'],\n",
       " ['there s a young girl to see you .', 'what does she want ?'],\n",
       " ['what does she want ?', 'i don t know .'],\n",
       " ['i don t know .', 'well ask her !'],\n",
       " ['wolfi .', 'yes my love ?'],\n",
       " ['wolfi ! your father is dead .', 'what ?'],\n",
       " ['what ?', 'your father is dead .'],\n",
       " ['you re not going to do this ?', 'why not ? half the house !'],\n",
       " ['who was that ?', 'no one .'],\n",
       " ['no one .', 'i heard voices .'],\n",
       " ['i m not telling you .', 'why not ?'],\n",
       " ['why not ?', 'you d think i was mad .'],\n",
       " ['no . don t answer it !', 'why ?'],\n",
       " ['give me one reason i can understand .', 'i can t write it !'],\n",
       " ['i can t write it !', 'why not ?'],\n",
       " ['why not ?', 'it s killing me .'],\n",
       " ['excellency !', 'madame . how can i help you ?'],\n",
       " ['he s terribly busy sir .', 'i understand .'],\n",
       " ['then he didn t send you ?', 'no sir . this is my own idea .'],\n",
       " ['no sir . this is my own idea .', 'i see .'],\n",
       " ['originals ?', 'yes .'],\n",
       " ['come back tonight .', 'tonight ?'],\n",
       " ['tonight ?', 'alone .'],\n",
       " ['alone .', 'what for ?'],\n",
       " ['what do you mean ?', 'isn t it obvious ?'],\n",
       " ['why you ?', 'i was at hand .'],\n",
       " ['he asked me to stay .', 'and i m asking you'],\n",
       " ['am i interrupting something ?', 'not at all .'],\n",
       " ['not at all .', 'where s our friend ?'],\n",
       " ['money ! money !', 'you re mad ! she s mad wolfi .'],\n",
       " ['i see that you re expecting .', 'oh yes .'],\n",
       " ['oh yes .', 'when may i ask ?'],\n",
       " ['when may i ask ?', 'in three months ! papa .'],\n",
       " ['be careful !', 'be careful !'],\n",
       " ['he s adorable !', 'adorable !'],\n",
       " ['behold !', 'behold !'],\n",
       " ['hey !', 'hey !'],\n",
       " ['behold !', 'behold !'],\n",
       " ['i said play !', 'michael !'],\n",
       " ['what a strange young man .', 'yes . he is a little strange .'],\n",
       " ['really ?', 'ah now ! here she comes .'],\n",
       " ...]"
      ]
     },
     "execution_count": 25,
     "metadata": {},
     "output_type": "execute_result"
    }
   ],
   "source": [
    "pairs = sorted(pairs, key = len)\n",
    "pairs"
   ]
  },
  {
   "cell_type": "code",
   "execution_count": 26,
   "metadata": {},
   "outputs": [],
   "source": [
    "vocab = vocab()\n",
    "def addVocab(pairs, vocab):\n",
    "    for sents in pairs:\n",
    "        for sent in sents:\n",
    "            vocab.addSentence(sent)"
   ]
  },
  {
   "cell_type": "markdown",
   "metadata": {},
   "source": [
    "#### add all sentences to the vocab 7735 words in total"
   ]
  },
  {
   "cell_type": "code",
   "execution_count": 27,
   "metadata": {},
   "outputs": [
    {
     "data": {
      "text/plain": [
       "7735"
      ]
     },
     "execution_count": 27,
     "metadata": {},
     "output_type": "execute_result"
    }
   ],
   "source": [
    "addVocab(pairs, vocab)\n",
    "vocab.word_num"
   ]
  },
  {
   "cell_type": "markdown",
   "metadata": {},
   "source": [
    "#### change the sentence to index"
   ]
  },
  {
   "cell_type": "code",
   "execution_count": 28,
   "metadata": {},
   "outputs": [],
   "source": [
    "def sent2index(sent, vocab):\n",
    "    return [vocab.word2index[word] for word in sent.split()]\n",
    "\n",
    "def padSent(sents, fillvalue=PAD_token):\n",
    "    return list(zip_longest(*sents, fillvalue=fillvalue)) "
   ]
  },
  {
   "cell_type": "markdown",
   "metadata": {},
   "source": [
    "#### test the sent2index and padSent function"
   ]
  },
  {
   "cell_type": "code",
   "execution_count": 29,
   "metadata": {},
   "outputs": [
    {
     "name": "stdout",
     "output_type": "stream",
     "text": [
      "[8, 9, 10, 11, 5, 12, 13, 14] [8, 15, 16, 5]\n"
     ]
    }
   ],
   "source": [
    "sent =['you have my word . as a gentleman', 'you re sweet .','what good stuff ?', 'the real you .','no .', 'you might wanna think about it']\n",
    "print(sent2index(sent[0],vocab),sent2index(sent[1], vocab))"
   ]
  },
  {
   "cell_type": "markdown",
   "metadata": {},
   "source": [
    "#### after padding with 0"
   ]
  },
  {
   "cell_type": "code",
   "execution_count": 30,
   "metadata": {},
   "outputs": [
    {
     "data": {
      "text/plain": [
       "[(8, 8, 44, 47, 28, 8),\n",
       " (9, 15, 45, 48, 5, 64),\n",
       " (10, 16, 46, 8, 0, 65),\n",
       " (11, 5, 7, 5, 0, 66),\n",
       " (5, 0, 0, 0, 0, 67),\n",
       " (12, 0, 0, 0, 0, 68),\n",
       " (13, 0, 0, 0, 0, 0),\n",
       " (14, 0, 0, 0, 0, 0)]"
      ]
     },
     "execution_count": 30,
     "metadata": {},
     "output_type": "execute_result"
    }
   ],
   "source": [
    "sents = []\n",
    "for s in sent:\n",
    "    sents.append(sent2index(s,vocab))\n",
    "padSent(sents)"
   ]
  },
  {
   "cell_type": "markdown",
   "metadata": {},
   "source": [
    "#### convert a sentence to a tensor"
   ]
  },
  {
   "cell_type": "code",
   "execution_count": 31,
   "metadata": {},
   "outputs": [],
   "source": [
    "def inputVar(sents, vocab):\n",
    "    l_batch = [sent2index(sent,vocab) for sent in sents]\n",
    "    lens = torch.tensor([len(l) for l in l_batch])\n",
    "    pad_batch = torch.LongTensor(padSent(l_batch))\n",
    "    return pad_batch, lens"
   ]
  },
  {
   "cell_type": "code",
   "execution_count": 32,
   "metadata": {},
   "outputs": [
    {
     "data": {
      "text/plain": [
       "(tensor([[ 8,  8, 44, 47, 28,  8],\n",
       "         [ 9, 15, 45, 48,  5, 64],\n",
       "         [10, 16, 46,  8,  0, 65],\n",
       "         [11,  5,  7,  5,  0, 66],\n",
       "         [ 5,  0,  0,  0,  0, 67],\n",
       "         [12,  0,  0,  0,  0, 68],\n",
       "         [13,  0,  0,  0,  0,  0],\n",
       "         [14,  0,  0,  0,  0,  0]]), tensor([8, 4, 4, 4, 2, 6]))"
      ]
     },
     "execution_count": 32,
     "metadata": {},
     "output_type": "execute_result"
    }
   ],
   "source": [
    "inputVar(sent, vocab)"
   ]
  },
  {
   "cell_type": "markdown",
   "metadata": {},
   "source": [
    "#### generate a binary matrix when has value "
   ]
  },
  {
   "cell_type": "code",
   "execution_count": 33,
   "metadata": {},
   "outputs": [
    {
     "data": {
      "text/plain": [
       "[[1, 1, 1, 1, 1, 1],\n",
       " [1, 1, 1, 1, 1, 1],\n",
       " [1, 1, 1, 1, 0, 1],\n",
       " [1, 1, 1, 1, 0, 1],\n",
       " [1, 0, 0, 0, 0, 1],\n",
       " [1, 0, 0, 0, 0, 1],\n",
       " [1, 0, 0, 0, 0, 0],\n",
       " [1, 0, 0, 0, 0, 0]]"
      ]
     },
     "execution_count": 33,
     "metadata": {},
     "output_type": "execute_result"
    }
   ],
   "source": [
    "def binaryMatrix(sents, vocab):\n",
    "    l_batch = [sent2index(sent,vocab) for sent in sents]\n",
    "    matrix = padSent(l_batch)\n",
    "    binary = []\n",
    "    for l in matrix:\n",
    "        binary.append([1 if i else 0 for i in l])\n",
    "    return binary\n",
    "binaryMatrix(sent, vocab)"
   ]
  },
  {
   "cell_type": "markdown",
   "metadata": {},
   "source": [
    "#### generate the output tensor and the mask for loss function later"
   ]
  },
  {
   "cell_type": "code",
   "execution_count": 34,
   "metadata": {},
   "outputs": [
    {
     "data": {
      "text/plain": [
       "(tensor([[ 8,  8, 44, 47, 28,  8],\n",
       "         [ 9, 15, 45, 48,  5, 64],\n",
       "         [10, 16, 46,  8,  0, 65],\n",
       "         [11,  5,  7,  5,  0, 66],\n",
       "         [ 5,  0,  0,  0,  0, 67],\n",
       "         [12,  0,  0,  0,  0, 68],\n",
       "         [13,  0,  0,  0,  0,  0],\n",
       "         [14,  0,  0,  0,  0,  0]]), tensor([[1, 1, 1, 1, 1, 1],\n",
       "         [1, 1, 1, 1, 1, 1],\n",
       "         [1, 1, 1, 1, 0, 1],\n",
       "         [1, 1, 1, 1, 0, 1],\n",
       "         [1, 0, 0, 0, 0, 1],\n",
       "         [1, 0, 0, 0, 0, 1],\n",
       "         [1, 0, 0, 0, 0, 0],\n",
       "         [1, 0, 0, 0, 0, 0]], dtype=torch.uint8), 8)"
      ]
     },
     "execution_count": 34,
     "metadata": {},
     "output_type": "execute_result"
    }
   ],
   "source": [
    "def outputVar(sents, vocab):\n",
    "    l_batch = [sent2index(sent,vocab) for sent in sents]\n",
    "    max_lens = max([len(l) for l in l_batch])\n",
    "    pad_batch = torch.LongTensor(padSent(l_batch))\n",
    "    mask = binaryMatrix(sents, vocab)\n",
    "    mask = torch.ByteTensor(mask)\n",
    "    return pad_batch, mask, max_lens\n",
    "outputVar(sent, vocab)"
   ]
  },
  {
   "cell_type": "markdown",
   "metadata": {},
   "source": [
    "#### pairs processing "
   ]
  },
  {
   "cell_type": "code",
   "execution_count": 35,
   "metadata": {},
   "outputs": [],
   "source": [
    "def BatchTrainPairs(PairsBatch,vocab):\n",
    "    PairsBatch = sorted(PairsBatch, key=lambda x: len(x[0].split()),reverse=True)\n",
    "    InputSent, OutputSent = [], []\n",
    "    for i,j in PairsBatch:\n",
    "        InputSent.append(i)\n",
    "        OutputSent.append(j)\n",
    "    InputBatch, lens = inputVar(InputSent, vocab)\n",
    "    OutputBatch, mask, MaxLen = outputVar(OutputSent, vocab)\n",
    "    return InputBatch, lens,OutputBatch, mask, MaxLen"
   ]
  },
  {
   "cell_type": "code",
   "execution_count": 36,
   "metadata": {},
   "outputs": [
    {
     "data": {
      "text/plain": [
       "(tensor([[ 8, 27,  9,  4, 17],\n",
       "         [ 9, 28, 25,  5,  5],\n",
       "         [10,  5, 23,  0,  0],\n",
       "         [11,  5,  7,  0,  0],\n",
       "         [ 5,  5,  0,  0,  0],\n",
       "         [12,  0,  0,  0,  0],\n",
       "         [13,  0,  0,  0,  0],\n",
       "         [14,  0,  0,  0,  0]]),\n",
       " tensor([8, 5, 4, 2, 2]),\n",
       " tensor([[ 8, 29, 26,  6, 18],\n",
       "         [15, 30,  0,  7, 19],\n",
       "         [16, 31,  0,  0, 20],\n",
       "         [ 5, 32,  0,  0, 21],\n",
       "         [ 0,  8,  0,  0, 22],\n",
       "         [ 0, 33,  0,  0, 23],\n",
       "         [ 0, 34,  0,  0, 24],\n",
       "         [ 0, 35,  0,  0,  7],\n",
       "         [ 0,  5,  0,  0,  0]]),\n",
       " tensor([[1, 1, 1, 1, 1],\n",
       "         [1, 1, 0, 1, 1],\n",
       "         [1, 1, 0, 0, 1],\n",
       "         [1, 1, 0, 0, 1],\n",
       "         [0, 1, 0, 0, 1],\n",
       "         [0, 1, 0, 0, 1],\n",
       "         [0, 1, 0, 0, 1],\n",
       "         [0, 1, 0, 0, 1],\n",
       "         [0, 1, 0, 0, 0]], dtype=torch.uint8),\n",
       " 9)"
      ]
     },
     "execution_count": 36,
     "metadata": {},
     "output_type": "execute_result"
    }
   ],
   "source": [
    "PairsBatch = [['there .', 'where ?'],\n",
    " ['you have my word . as a gentleman', 'you re sweet .'],\n",
    " ['hi .', 'looks like things worked out tonight huh ?'],\n",
    " ['have fun tonight ?', 'tons'],\n",
    " ['well no . . .', 'then that s all you had to say .']]\n",
    "BatchTrainPairs(PairsBatch, vocab)"
   ]
  },
  {
   "cell_type": "markdown",
   "metadata": {},
   "source": [
    "### begin the seq2seq model after data preparation "
   ]
  },
  {
   "cell_type": "code",
   "execution_count": 37,
   "metadata": {},
   "outputs": [
    {
     "data": {
      "image/png": "[encoded data removed]",
      "text/plain": [
       "<IPython.core.display.Image object>"
      ]
     },
     "execution_count": 37,
     "metadata": {},
     "output_type": "execute_result"
    }
   ],
   "source": [
    "from IPython.display import display, Image\n",
    "Image( filename =  'RNN-bidirectional.png' )"
   ]
  },
  {
   "cell_type": "code",
   "execution_count": 38,
   "metadata": {},
   "outputs": [
    {
     "data": {
      "image/jpeg": "[encoded data removed]",
      "text/plain": [
       "<IPython.core.display.Image object>"
      ]
     },
     "execution_count": 38,
     "metadata": {},
     "output_type": "execute_result"
    }
   ],
   "source": [
    "Image( filename =  'gru.jpg' )"
   ]
  },
  {
   "cell_type": "code",
   "execution_count": 39,
   "metadata": {},
   "outputs": [
    {
     "data": {
      "image/jpeg": "[encoded data removed]",
      "text/plain": [
       "<IPython.core.display.Image object>"
      ]
     },
     "execution_count": 39,
     "metadata": {},
     "output_type": "execute_result"
    }
   ],
   "source": [
    "Image( filename = 'packed_gru.jpg')"
   ]
  },
  {
   "cell_type": "markdown",
   "metadata": {},
   "source": [
    "### Encoder Layer"
   ]
  },
  {
   "cell_type": "code",
   "execution_count": 19,
   "metadata": {},
   "outputs": [],
   "source": [
    "from torch import nn\n",
    "from torch.nn.utils.rnn import pack_padded_sequence\n",
    "class EncoderLayer(nn.Module):\n",
    "    def __init__(self, hidden_size, embedding, num_layers=1, dropout=0):\n",
    "        super(EncoderLayer, self).__init__()\n",
    "        self.hidden_size = hidden_size\n",
    "        self.embedding = embedding\n",
    "        self.num_layers = num_layers\n",
    "        self.dropout = dropout\n",
    "        \n",
    "        self.gru = nn.GRU(hidden_size, hidden_size, num_layers, dropout=dropout, bidirectional=True)\n",
    "    \n",
    "    def forward(self, input_seq, input_lens, hidden):\n",
    "        embedded = self.embedding(input_seq)\n",
    "        \n",
    "        # 做pack_padded_sequence的固定格式\n",
    "        packed = pack_padded_sequence(embedded, input_lens)\n",
    "        outputs, hidden = self.gru(packed, hidden)\n",
    "        outputs, _ = pack_padded_sequence(output)\n",
    "        \n",
    "        #bidirectional gru, 前面那个是forward时候的output, 后面那个是backward的output，所以最后的output是两者相加\n",
    "        outputs = outputs[:,:,:self.hidden_size] + outputs[:,:,self.hidden_size:]\n",
    "        return outputs, hidden"
   ]
  },
  {
   "cell_type": "markdown",
   "metadata": {},
   "source": [
    "### Decoder Layer"
   ]
  },
  {
   "cell_type": "markdown",
   "metadata": {},
   "source": [
    "#### Attention Mechanism "
   ]
  },
  {
   "cell_type": "code",
   "execution_count": 20,
   "metadata": {},
   "outputs": [
    {
     "data": {
      "image/jpeg": "[encoded data removed]",
      "text/plain": [
       "<IPython.core.display.Image object>"
      ]
     },
     "execution_count": 20,
     "metadata": {},
     "output_type": "execute_result"
    }
   ],
   "source": [
    "Image(filename='attention_score.jpg')"
   ]
  },
  {
   "cell_type": "code",
   "execution_count": 21,
   "metadata": {},
   "outputs": [],
   "source": [
    "class AttentionScore(nn.Module):\n",
    "    def __init__(self, method,hidden_size):\n",
    "        self.method = method\n",
    "        if self.method not in ['dot', 'general', 'concat']:\n",
    "            raise ValueError(self.method, \"is not an appropriate attention method.\")\n",
    "        self.hidden_size = hidden_size\n",
    "        \n",
    "        if self.method=='general':\n",
    "            self.weights = nn.Linear(self.hidden_size, hidden_size)\n",
    "        elif self.method=='concat':\n",
    "            self.weights = nn.Linear(self.hidden_size*2, hidden_size)\n",
    "    \n",
    "    # 假设一个encoder的维度是()\n",
    "    def dotScore(self, encoder_ouput, hidden_size):\n",
    "        return \n",
    "        "
   ]
  },
  {
   "cell_type": "code",
   "execution_count": null,
   "metadata": {},
   "outputs": [],
   "source": []
  },
  {
   "cell_type": "code",
   "execution_count": null,
   "metadata": {},
   "outputs": [],
   "source": []
  },
  {
   "cell_type": "code",
   "execution_count": null,
   "metadata": {},
   "outputs": [],
   "source": []
  },
  {
   "cell_type": "code",
   "execution_count": null,
   "metadata": {},
   "outputs": [],
   "source": []
  },
  {
   "cell_type": "code",
   "execution_count": null,
   "metadata": {},
   "outputs": [],
   "source": []
  },
  {
   "cell_type": "code",
   "execution_count": null,
   "metadata": {},
   "outputs": [],
   "source": []
  },
  {
   "cell_type": "code",
   "execution_count": null,
   "metadata": {},
   "outputs": [],
   "source": []
  },
  {
   "cell_type": "code",
   "execution_count": null,
   "metadata": {},
   "outputs": [],
   "source": []
  },
  {
   "cell_type": "code",
   "execution_count": null,
   "metadata": {},
   "outputs": [],
   "source": []
  },
  {
   "cell_type": "code",
   "execution_count": null,
   "metadata": {},
   "outputs": [],
   "source": []
  },
  {
   "cell_type": "code",
   "execution_count": null,
   "metadata": {},
   "outputs": [],
   "source": []
  },
  {
   "cell_type": "code",
   "execution_count": null,
   "metadata": {},
   "outputs": [],
   "source": []
  },
  {
   "cell_type": "code",
   "execution_count": null,
   "metadata": {},
   "outputs": [],
   "source": []
  },
  {
   "cell_type": "code",
   "execution_count": null,
   "metadata": {},
   "outputs": [],
   "source": []
  },
  {
   "cell_type": "code",
   "execution_count": null,
   "metadata": {},
   "outputs": [],
   "source": []
  },
  {
   "cell_type": "code",
   "execution_count": null,
   "metadata": {},
   "outputs": [],
   "source": []
  },
  {
   "cell_type": "code",
   "execution_count": null,
   "metadata": {},
   "outputs": [],
   "source": []
  },
  {
   "cell_type": "code",
   "execution_count": 22,
   "metadata": {},
   "outputs": [
    {
     "name": "stdout",
     "output_type": "stream",
     "text": [
      "torch.Size([128, 30])\n"
     ]
    }
   ],
   "source": [
    "m = nn.Linear(20, 30)\n",
    "input = torch.randn(128, 20)\n",
    "output = m(input)\n",
    "print(output.size())"
   ]
  },
  {
   "cell_type": "code",
   "execution_count": 41,
   "metadata": {},
   "outputs": [
    {
     "data": {
      "text/plain": [
       "tensor([[[0, 1, 2],\n",
       "         [3, 4, 5]]])"
      ]
     },
     "execution_count": 41,
     "metadata": {},
     "output_type": "execute_result"
    }
   ],
   "source": [
    "b = torch.arange(6).view(1, 2, 3)\n",
    "b"
   ]
  },
  {
   "cell_type": "code",
   "execution_count": 40,
   "metadata": {},
   "outputs": [
    {
     "data": {
      "text/plain": [
       "torch.Size([2, 2, 3])"
      ]
     },
     "execution_count": 40,
     "metadata": {},
     "output_type": "execute_result"
    }
   ],
   "source": [
    "a = torch.arange(12).view(2, 2, 3)\n",
    "a.shape"
   ]
  },
  {
   "cell_type": "code",
   "execution_count": 37,
   "metadata": {},
   "outputs": [],
   "source": [
    "c = b * a"
   ]
  },
  {
   "cell_type": "code",
   "execution_count": 38,
   "metadata": {},
   "outputs": [
    {
     "data": {
      "text/plain": [
       "torch.Size([2, 2, 3])"
      ]
     },
     "execution_count": 38,
     "metadata": {},
     "output_type": "execute_result"
    }
   ],
   "source": [
    "c.size()"
   ]
  },
  {
   "cell_type": "code",
   "execution_count": null,
   "metadata": {},
   "outputs": [],
   "source": []
  },
  {
   "cell_type": "code",
   "execution_count": null,
   "metadata": {},
   "outputs": [],
   "source": []
  },
  {
   "cell_type": "code",
   "execution_count": 99,
   "metadata": {},
   "outputs": [],
   "source": [
    "rnn = nn.GRU(10, 20, 2)"
   ]
  },
  {
   "cell_type": "code",
   "execution_count": 102,
   "metadata": {},
   "outputs": [
    {
     "data": {
      "text/plain": [
       "torch.Size([5, 3, 10])"
      ]
     },
     "execution_count": 102,
     "metadata": {},
     "output_type": "execute_result"
    }
   ],
   "source": [
    "input = torch.randn(5, 3, 10)\n",
    "input.shape"
   ]
  },
  {
   "cell_type": "code",
   "execution_count": 103,
   "metadata": {},
   "outputs": [
    {
     "data": {
      "text/plain": [
       "torch.Size([2, 3, 20])"
      ]
     },
     "execution_count": 103,
     "metadata": {},
     "output_type": "execute_result"
    }
   ],
   "source": [
    "h0 = torch.randn(2, 3, 20)\n",
    "h0.shape"
   ]
  },
  {
   "cell_type": "code",
   "execution_count": 104,
   "metadata": {},
   "outputs": [],
   "source": [
    "output, hn = rnn(input, h0)"
   ]
  },
  {
   "cell_type": "code",
   "execution_count": 106,
   "metadata": {},
   "outputs": [
    {
     "data": {
      "text/plain": [
       "torch.Size([5, 3, 20])"
      ]
     },
     "execution_count": 106,
     "metadata": {},
     "output_type": "execute_result"
    }
   ],
   "source": [
    "output.shape"
   ]
  },
  {
   "cell_type": "code",
   "execution_count": 108,
   "metadata": {},
   "outputs": [
    {
     "data": {
      "text/plain": [
       "torch.Size([2, 3, 20])"
      ]
     },
     "execution_count": 108,
     "metadata": {},
     "output_type": "execute_result"
    }
   ],
   "source": [
    "hn.shape"
   ]
  },
  {
   "cell_type": "code",
   "execution_count": 109,
   "metadata": {},
   "outputs": [
    {
     "data": {
      "text/plain": [
       "tensor([[[ 0.0148,  0.1523,  0.0826, -0.2350,  0.1988, -0.0190,  0.4706,\n",
       "          -0.2935,  0.0530, -0.0324,  0.1790,  0.2754, -0.1924,  0.4073,\n",
       "           0.0451,  0.5699,  0.1481, -0.2261,  0.3630,  0.1186],\n",
       "         [ 0.1329, -0.2123,  0.1314,  0.0858, -0.0549, -0.2234,  0.0781,\n",
       "          -0.1072, -0.0028,  0.3276, -0.0023, -0.1702, -0.0693,  0.2369,\n",
       "          -0.0377, -0.2264, -0.3863, -0.2516,  0.1492, -0.1128],\n",
       "         [ 0.0544,  0.1532,  0.3445,  0.1677, -0.0318, -0.1805,  0.1596,\n",
       "           0.1125, -0.1218,  0.1342,  0.1343,  0.2497, -0.0696,  0.2703,\n",
       "           0.1290,  0.2676,  0.1492,  0.1053,  0.0785,  0.4557]],\n",
       "\n",
       "        [[-0.1173, -0.0267, -0.2650, -0.1826, -0.2882, -0.1207, -0.1583,\n",
       "          -0.1609, -0.0770, -0.0964, -0.1968,  0.0574, -0.1364, -0.0972,\n",
       "          -0.1907,  0.0712,  0.2190,  0.0903,  0.2655,  0.1311],\n",
       "         [ 0.0636, -0.1662, -0.3389, -0.2263, -0.7335, -0.0973, -0.0964,\n",
       "          -0.3771,  0.0871, -0.0704, -0.4565,  0.1621, -0.1413, -0.1975,\n",
       "          -0.5079,  0.1036,  0.3370, -0.0165,  0.3090,  0.0846],\n",
       "         [-0.1312,  0.1621, -0.3655, -0.0902, -0.0762, -0.1339,  0.0240,\n",
       "          -0.1009,  0.2135,  0.2611,  0.0867, -0.1227,  0.1214,  0.2265,\n",
       "          -0.1569, -0.3040,  0.3306,  0.0936,  0.1747, -0.1137]]],\n",
       "       grad_fn=<StackBackward>)"
      ]
     },
     "execution_count": 109,
     "metadata": {},
     "output_type": "execute_result"
    }
   ],
   "source": [
    "hn"
   ]
  },
  {
   "cell_type": "code",
   "execution_count": 113,
   "metadata": {},
   "outputs": [
    {
     "ename": "TypeError",
     "evalue": "_pack_padded_sequence(): argument 'input' (position 1) must be Tensor, not list",
     "output_type": "error",
     "traceback": [
      "\u001b[1;31m---------------------------------------------------------------------------\u001b[0m",
      "\u001b[1;31mTypeError\u001b[0m                                 Traceback (most recent call last)",
      "\u001b[1;32m<ipython-input-113-c93133a45045>\u001b[0m in \u001b[0;36m<module>\u001b[1;34m\u001b[0m\n\u001b[0;32m      4\u001b[0m \u001b[0mc\u001b[0m \u001b[1;33m=\u001b[0m \u001b[0mtorch\u001b[0m\u001b[1;33m.\u001b[0m\u001b[0mtensor\u001b[0m\u001b[1;33m(\u001b[0m\u001b[1;33m[\u001b[0m\u001b[1;36m6\u001b[0m\u001b[1;33m]\u001b[0m\u001b[1;33m)\u001b[0m\u001b[1;33m\u001b[0m\u001b[1;33m\u001b[0m\u001b[0m\n\u001b[0;32m      5\u001b[0m \u001b[0mlens\u001b[0m \u001b[1;33m=\u001b[0m \u001b[0mtorch\u001b[0m\u001b[1;33m.\u001b[0m\u001b[0mtensor\u001b[0m\u001b[1;33m(\u001b[0m\u001b[1;33m[\u001b[0m\u001b[1;36m3\u001b[0m\u001b[1;33m,\u001b[0m\u001b[1;36m2\u001b[0m\u001b[1;33m,\u001b[0m\u001b[1;36m1\u001b[0m\u001b[1;33m]\u001b[0m\u001b[1;33m)\u001b[0m\u001b[1;33m\u001b[0m\u001b[1;33m\u001b[0m\u001b[0m\n\u001b[1;32m----> 6\u001b[1;33m \u001b[0mpacked\u001b[0m \u001b[1;33m=\u001b[0m \u001b[0mpack_padded_sequence\u001b[0m\u001b[1;33m(\u001b[0m\u001b[1;33m[\u001b[0m\u001b[0ma\u001b[0m\u001b[1;33m,\u001b[0m \u001b[0mb\u001b[0m\u001b[1;33m,\u001b[0m \u001b[0mc\u001b[0m\u001b[1;33m]\u001b[0m\u001b[1;33m,\u001b[0m\u001b[0mlens\u001b[0m\u001b[1;33m)\u001b[0m\u001b[1;33m\u001b[0m\u001b[1;33m\u001b[0m\u001b[0m\n\u001b[0m\u001b[0;32m      7\u001b[0m \u001b[0mpacked\u001b[0m\u001b[1;33m\u001b[0m\u001b[1;33m\u001b[0m\u001b[0m\n",
      "\u001b[1;32m~\\Anaconda3\\envs\\nlp\\lib\\site-packages\\torch\\nn\\utils\\rnn.py\u001b[0m in \u001b[0;36mpack_padded_sequence\u001b[1;34m(input, lengths, batch_first, enforce_sorted)\u001b[0m\n\u001b[0;32m    231\u001b[0m \u001b[1;33m\u001b[0m\u001b[0m\n\u001b[0;32m    232\u001b[0m     \u001b[0mdata\u001b[0m\u001b[1;33m,\u001b[0m \u001b[0mbatch_sizes\u001b[0m \u001b[1;33m=\u001b[0m\u001b[0;31m \u001b[0m\u001b[0;31m\\\u001b[0m\u001b[1;33m\u001b[0m\u001b[1;33m\u001b[0m\u001b[0m\n\u001b[1;32m--> 233\u001b[1;33m         \u001b[0m_VF\u001b[0m\u001b[1;33m.\u001b[0m\u001b[0m_pack_padded_sequence\u001b[0m\u001b[1;33m(\u001b[0m\u001b[0minput\u001b[0m\u001b[1;33m,\u001b[0m \u001b[0mlengths\u001b[0m\u001b[1;33m,\u001b[0m \u001b[0mbatch_first\u001b[0m\u001b[1;33m)\u001b[0m\u001b[1;33m\u001b[0m\u001b[1;33m\u001b[0m\u001b[0m\n\u001b[0m\u001b[0;32m    234\u001b[0m     \u001b[1;32mreturn\u001b[0m \u001b[0mPackedSequence\u001b[0m\u001b[1;33m(\u001b[0m\u001b[0mdata\u001b[0m\u001b[1;33m,\u001b[0m \u001b[0mbatch_sizes\u001b[0m\u001b[1;33m,\u001b[0m \u001b[0msorted_indices\u001b[0m\u001b[1;33m,\u001b[0m \u001b[1;32mNone\u001b[0m\u001b[1;33m)\u001b[0m\u001b[1;33m\u001b[0m\u001b[1;33m\u001b[0m\u001b[0m\n\u001b[0;32m    235\u001b[0m \u001b[1;33m\u001b[0m\u001b[0m\n",
      "\u001b[1;31mTypeError\u001b[0m: _pack_padded_sequence(): argument 'input' (position 1) must be Tensor, not list"
     ]
    }
   ],
   "source": [
    "from torch.nn.utils.rnn import pack_sequence\n",
    "a = torch.tensor([1,2,3])\n",
    "b = torch.tensor([4,5])\n",
    "c = torch.tensor([6])\n",
    "lens = torch.tensor([3,2,1])\n",
    "packed = pack_padded_sequence([a, b, c],lens)\n",
    "packed"
   ]
  },
  {
   "cell_type": "code",
   "execution_count": null,
   "metadata": {},
   "outputs": [],
   "source": [
    "pack_padded_sequence"
   ]
  },
  {
   "cell_type": "code",
   "execution_count": null,
   "metadata": {},
   "outputs": [],
   "source": []
  },
  {
   "cell_type": "code",
   "execution_count": null,
   "metadata": {},
   "outputs": [],
   "source": []
  },
  {
   "cell_type": "code",
   "execution_count": null,
   "metadata": {},
   "outputs": [],
   "source": []
  },
  {
   "cell_type": "code",
   "execution_count": null,
   "metadata": {},
   "outputs": [],
   "source": []
  },
  {
   "cell_type": "code",
   "execution_count": null,
   "metadata": {},
   "outputs": [],
   "source": []
  },
  {
   "cell_type": "code",
   "execution_count": null,
   "metadata": {},
   "outputs": [],
   "source": []
  },
  {
   "cell_type": "code",
   "execution_count": null,
   "metadata": {},
   "outputs": [],
   "source": []
  },
  {
   "cell_type": "code",
   "execution_count": 87,
   "metadata": {},
   "outputs": [
    {
     "data": {
      "text/plain": [
       "[['you have my word . as a gentleman', 'you re sweet .'],\n",
       " ['well no . . .', 'then that s all you had to say .'],\n",
       " ['have fun tonight ?', 'tons'],\n",
       " ['there .', 'where ?'],\n",
       " ['hi .', 'looks like things worked out tonight huh ?']]"
      ]
     },
     "execution_count": 87,
     "metadata": {},
     "output_type": "execute_result"
    }
   ],
   "source": [
    "y = [['there .', 'where ?'],\n",
    " ['you have my word . as a gentleman', 'you re sweet .'],\n",
    " ['hi .', 'looks like things worked out tonight huh ?'],\n",
    " ['have fun tonight ?', 'tons'],\n",
    " ['well no . . .', 'then that s all you had to say .']]\n",
    "\n",
    "sorted(y, key=lambda x: len(x[0].split()),reverse=True)"
   ]
  },
  {
   "cell_type": "code",
   "execution_count": null,
   "metadata": {},
   "outputs": [],
   "source": []
  },
  {
   "cell_type": "code",
   "execution_count": null,
   "metadata": {},
   "outputs": [],
   "source": []
  },
  {
   "cell_type": "code",
   "execution_count": null,
   "metadata": {},
   "outputs": [],
   "source": []
  },
  {
   "cell_type": "code",
   "execution_count": null,
   "metadata": {},
   "outputs": [],
   "source": []
  },
  {
   "cell_type": "code",
   "execution_count": null,
   "metadata": {},
   "outputs": [],
   "source": []
  }
 ],
 "metadata": {
  "kernelspec": {
   "display_name": "Python (nlp)",
   "language": "python",
   "name": "nlp"
  },
  "language_info": {
   "codemirror_mode": {
    "name": "ipython",
    "version": 3
   },
   "file_extension": ".py",
   "mimetype": "text/x-python",
   "name": "python",
   "nbconvert_exporter": "python",
   "pygments_lexer": "ipython3",
   "version": "3.7.6"
  }
 },
 "nbformat": 4,
 "nbformat_minor": 2
}
